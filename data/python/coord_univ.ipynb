{
 "cells": [
  {
   "cell_type": "markdown",
   "metadata": {},
   "source": [
    "# Code to generate the json file of the coordinates gps of the universities"
   ]
  },
  {
   "cell_type": "code",
   "execution_count": 3,
   "metadata": {},
   "outputs": [],
   "source": [
    "import numpy as np"
   ]
  },
  {
   "cell_type": "code",
   "execution_count": 4,
   "metadata": {},
   "outputs": [
    {
     "data": {
      "text/plain": [
       "'1.19.2'"
      ]
     },
     "execution_count": 4,
     "metadata": {},
     "output_type": "execute_result"
    }
   ],
   "source": [
    "np.__version__"
   ]
  },
  {
   "cell_type": "code",
   "execution_count": 1,
   "metadata": {},
   "outputs": [],
   "source": [
    "import pandas as pd\n",
    "import numpy as np\n",
    "import json"
   ]
  },
  {
   "cell_type": "code",
   "execution_count": 2,
   "metadata": {},
   "outputs": [],
   "source": [
    "df = pd.DataFrame(columns=['university','country','lat','long','site'])"
   ]
  },
  {
   "cell_type": "code",
   "execution_count": 3,
   "metadata": {},
   "outputs": [
    {
     "data": {
      "text/html": [
       "<div>\n",
       "<style scoped>\n",
       "    .dataframe tbody tr th:only-of-type {\n",
       "        vertical-align: middle;\n",
       "    }\n",
       "\n",
       "    .dataframe tbody tr th {\n",
       "        vertical-align: top;\n",
       "    }\n",
       "\n",
       "    .dataframe thead th {\n",
       "        text-align: right;\n",
       "    }\n",
       "</style>\n",
       "<table border=\"1\" class=\"dataframe\">\n",
       "  <thead>\n",
       "    <tr style=\"text-align: right;\">\n",
       "      <th></th>\n",
       "      <th>university</th>\n",
       "      <th>country</th>\n",
       "      <th>lat</th>\n",
       "      <th>long</th>\n",
       "      <th>site</th>\n",
       "    </tr>\n",
       "  </thead>\n",
       "  <tbody>\n",
       "  </tbody>\n",
       "</table>\n",
       "</div>"
      ],
      "text/plain": [
       "Empty DataFrame\n",
       "Columns: [university, country, lat, long, site]\n",
       "Index: []"
      ]
     },
     "execution_count": 3,
     "metadata": {},
     "output_type": "execute_result"
    }
   ],
   "source": [
    "df"
   ]
  },
  {
   "cell_type": "code",
   "execution_count": 4,
   "metadata": {},
   "outputs": [],
   "source": [
    "df=df.append({\"university\":\"USMB\",\"country\":\"France\",\"lat\":45.56761144736685,\"long\":5.917261980927834,\"site\":\"https://www.univ-smb.fr/\"}, ignore_index=True)\n",
    "df=df.append({\"university\":\"UVT\",\"country\":\"Romania\",\"lat\":45.748093569346665,\"long\":21.231490844949136,\"site\":\"https://www.uvt.ro/ro/\"}, ignore_index=True)\n",
    "df=df.append({\"university\":\"UBI\",\"country\":\"Portugal\",\"lat\":40.2781198424507,\"long\":-7.5090171593232,\"site\":\" https://www.ubi.edu/\"}, ignore_index=True)\n",
    "df=df.append({\"university\":\"UPPA\",\"country\":\"France\",\"lat\":43.31433794091983,\"long\":-0.3665944842841357,\"site\":\"https://www.univ-pau.fr/fr/index.html\"}, ignore_index=True)\n",
    "df=df.append({\"university\":\"UNIZAR\",\"country\":\"Spain\",\"lat\":41.64249510675419,\"long\":-0.9014487970675739,\"site\":\"https://www.unizar.es/\"}, ignore_index=True)\n",
    "df=df.append({\"university\":\"UNITO\",\"country\":\"Italy\",\"lat\":45.069458288031,\"long\":7.689125903013075,\"site\":\" https://en.unito.it/\"}, ignore_index=True)"
   ]
  },
  {
   "cell_type": "code",
   "execution_count": 5,
   "metadata": {},
   "outputs": [
    {
     "data": {
      "text/html": [
       "<div>\n",
       "<style scoped>\n",
       "    .dataframe tbody tr th:only-of-type {\n",
       "        vertical-align: middle;\n",
       "    }\n",
       "\n",
       "    .dataframe tbody tr th {\n",
       "        vertical-align: top;\n",
       "    }\n",
       "\n",
       "    .dataframe thead th {\n",
       "        text-align: right;\n",
       "    }\n",
       "</style>\n",
       "<table border=\"1\" class=\"dataframe\">\n",
       "  <thead>\n",
       "    <tr style=\"text-align: right;\">\n",
       "      <th></th>\n",
       "      <th>university</th>\n",
       "      <th>country</th>\n",
       "      <th>lat</th>\n",
       "      <th>long</th>\n",
       "      <th>site</th>\n",
       "    </tr>\n",
       "  </thead>\n",
       "  <tbody>\n",
       "    <tr>\n",
       "      <th>0</th>\n",
       "      <td>USMB</td>\n",
       "      <td>France</td>\n",
       "      <td>45.567611</td>\n",
       "      <td>5.917262</td>\n",
       "      <td>https://www.univ-smb.fr/</td>\n",
       "    </tr>\n",
       "    <tr>\n",
       "      <th>1</th>\n",
       "      <td>UVT</td>\n",
       "      <td>Romania</td>\n",
       "      <td>45.748094</td>\n",
       "      <td>21.231491</td>\n",
       "      <td>https://www.uvt.ro/ro/</td>\n",
       "    </tr>\n",
       "    <tr>\n",
       "      <th>2</th>\n",
       "      <td>UBI</td>\n",
       "      <td>Portugal</td>\n",
       "      <td>40.278120</td>\n",
       "      <td>-7.509017</td>\n",
       "      <td>https://www.ubi.edu/</td>\n",
       "    </tr>\n",
       "    <tr>\n",
       "      <th>3</th>\n",
       "      <td>UPPA</td>\n",
       "      <td>France</td>\n",
       "      <td>43.314338</td>\n",
       "      <td>-0.366594</td>\n",
       "      <td>https://www.univ-pau.fr/fr/index.html</td>\n",
       "    </tr>\n",
       "    <tr>\n",
       "      <th>4</th>\n",
       "      <td>UNIZAR</td>\n",
       "      <td>Spain</td>\n",
       "      <td>41.642495</td>\n",
       "      <td>-0.901449</td>\n",
       "      <td>https://www.unizar.es/</td>\n",
       "    </tr>\n",
       "    <tr>\n",
       "      <th>5</th>\n",
       "      <td>UNITO</td>\n",
       "      <td>Italy</td>\n",
       "      <td>45.069458</td>\n",
       "      <td>7.689126</td>\n",
       "      <td>https://en.unito.it/</td>\n",
       "    </tr>\n",
       "  </tbody>\n",
       "</table>\n",
       "</div>"
      ],
      "text/plain": [
       "  university   country        lat       long  \\\n",
       "0       USMB    France  45.567611   5.917262   \n",
       "1        UVT   Romania  45.748094  21.231491   \n",
       "2        UBI  Portugal  40.278120  -7.509017   \n",
       "3       UPPA    France  43.314338  -0.366594   \n",
       "4     UNIZAR     Spain  41.642495  -0.901449   \n",
       "5      UNITO     Italy  45.069458   7.689126   \n",
       "\n",
       "                                    site  \n",
       "0               https://www.univ-smb.fr/  \n",
       "1                 https://www.uvt.ro/ro/  \n",
       "2                   https://www.ubi.edu/  \n",
       "3  https://www.univ-pau.fr/fr/index.html  \n",
       "4                 https://www.unizar.es/  \n",
       "5                   https://en.unito.it/  "
      ]
     },
     "execution_count": 5,
     "metadata": {},
     "output_type": "execute_result"
    }
   ],
   "source": [
    "df"
   ]
  },
  {
   "cell_type": "code",
   "execution_count": 6,
   "metadata": {},
   "outputs": [],
   "source": [
    "df.to_json(\"coord.json\", orient = 'records')"
   ]
  },
  {
   "cell_type": "code",
   "execution_count": null,
   "metadata": {},
   "outputs": [],
   "source": []
  }
 ],
 "metadata": {
  "kernelspec": {
   "display_name": "Python 3",
   "language": "python",
   "name": "python3"
  },
  "language_info": {
   "codemirror_mode": {
    "name": "ipython",
    "version": 3
   },
   "file_extension": ".py",
   "mimetype": "text/x-python",
   "name": "python",
   "nbconvert_exporter": "python",
   "pygments_lexer": "ipython3",
   "version": "3.7.4"
  }
 },
 "nbformat": 4,
 "nbformat_minor": 4
}
