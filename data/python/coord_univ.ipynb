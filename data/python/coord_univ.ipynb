{
 "cells": [
  {
   "cell_type": "markdown",
   "metadata": {},
   "source": [
    "# Code to generate the json file of the coordinates gps of the universities"
   ]
  },
  {
   "cell_type": "code",
   "execution_count": 1,
   "metadata": {},
   "outputs": [],
   "source": [
    "import pandas as pd\n",
    "import numpy as np\n",
    "import json\n",
    "import base64\n",
    "import os\n",
    "from PIL import Image\n",
    "from io import BytesIO\n",
    "from os.path import basename\n",
    "from pathlib import Path"
   ]
  },
  {
   "cell_type": "markdown",
   "metadata": {},
   "source": [
    "Versions : numpy 1.19.2 and pandas 1.0.2"
   ]
  },
  {
   "cell_type": "code",
   "execution_count": 2,
   "metadata": {},
   "outputs": [],
   "source": [
    "df = pd.DataFrame(columns=['university','country','lat','long','site', 'students'])"
   ]
  },
  {
   "cell_type": "code",
   "execution_count": 3,
   "metadata": {},
   "outputs": [
    {
     "data": {
      "text/html": [
       "<div>\n",
       "<style scoped>\n",
       "    .dataframe tbody tr th:only-of-type {\n",
       "        vertical-align: middle;\n",
       "    }\n",
       "\n",
       "    .dataframe tbody tr th {\n",
       "        vertical-align: top;\n",
       "    }\n",
       "\n",
       "    .dataframe thead th {\n",
       "        text-align: right;\n",
       "    }\n",
       "</style>\n",
       "<table border=\"1\" class=\"dataframe\">\n",
       "  <thead>\n",
       "    <tr style=\"text-align: right;\">\n",
       "      <th></th>\n",
       "      <th>university</th>\n",
       "      <th>country</th>\n",
       "      <th>lat</th>\n",
       "      <th>long</th>\n",
       "      <th>site</th>\n",
       "      <th>students</th>\n",
       "    </tr>\n",
       "  </thead>\n",
       "  <tbody>\n",
       "  </tbody>\n",
       "</table>\n",
       "</div>"
      ],
      "text/plain": [
       "Empty DataFrame\n",
       "Columns: [university, country, lat, long, site, students]\n",
       "Index: []"
      ]
     },
     "execution_count": 3,
     "metadata": {},
     "output_type": "execute_result"
    }
   ],
   "source": [
    "df"
   ]
  },
  {
   "cell_type": "code",
   "execution_count": 4,
   "metadata": {},
   "outputs": [],
   "source": [
    "df=df.append({\"university\":\"USMB\",\"country\":\"France\",\"lat\":45.56761144736685,\"long\":5.917261980927834,\"site\":\"https://www.univ-smb.fr/\", \"students\":15399}, ignore_index=True)\n",
    "df=df.append({\"university\":\"UVT\",\"country\":\"Romania\",\"lat\":45.748093569346665,\"long\":21.231490844949136,\"site\":\"https://www.uvt.ro/ro/\", \"students\":16000}, ignore_index=True)\n",
    "df=df.append({\"university\":\"UBI\",\"country\":\"Portugal\",\"lat\":40.2781198424507,\"long\":-7.5090171593232,\"site\":\" https://www.ubi.edu/\", \"students\":7000}, ignore_index=True)\n",
    "df=df.append({\"university\":\"UPPA\",\"country\":\"France\",\"lat\":43.31433794091983,\"long\":-0.3665944842841357,\"site\":\"https://www.univ-pau.fr/fr/index.html\", \"students\":13500}, ignore_index=True)\n",
    "df=df.append({\"university\":\"UNIZAR\",\"country\":\"Spain\",\"lat\":41.64249510675419,\"long\":-0.9014487970675739,\"site\":\"https://www.unizar.es/\", \"students\":39664}, ignore_index=True)\n",
    "df=df.append({\"university\":\"UNITO\",\"country\":\"Italy\",\"lat\":45.069458288031,\"long\":7.689125903013075,\"site\":\" https://en.unito.it/\", \"students\":81700}, ignore_index=True)"
   ]
  },
  {
   "cell_type": "code",
   "execution_count": 5,
   "metadata": {
    "scrolled": false
   },
   "outputs": [
    {
     "data": {
      "text/html": [
       "<div>\n",
       "<style scoped>\n",
       "    .dataframe tbody tr th:only-of-type {\n",
       "        vertical-align: middle;\n",
       "    }\n",
       "\n",
       "    .dataframe tbody tr th {\n",
       "        vertical-align: top;\n",
       "    }\n",
       "\n",
       "    .dataframe thead th {\n",
       "        text-align: right;\n",
       "    }\n",
       "</style>\n",
       "<table border=\"1\" class=\"dataframe\">\n",
       "  <thead>\n",
       "    <tr style=\"text-align: right;\">\n",
       "      <th></th>\n",
       "      <th>university</th>\n",
       "      <th>country</th>\n",
       "      <th>lat</th>\n",
       "      <th>long</th>\n",
       "      <th>site</th>\n",
       "      <th>students</th>\n",
       "    </tr>\n",
       "  </thead>\n",
       "  <tbody>\n",
       "    <tr>\n",
       "      <th>0</th>\n",
       "      <td>USMB</td>\n",
       "      <td>France</td>\n",
       "      <td>45.567611</td>\n",
       "      <td>5.917262</td>\n",
       "      <td>https://www.univ-smb.fr/</td>\n",
       "      <td>15399</td>\n",
       "    </tr>\n",
       "    <tr>\n",
       "      <th>1</th>\n",
       "      <td>UVT</td>\n",
       "      <td>Romania</td>\n",
       "      <td>45.748094</td>\n",
       "      <td>21.231491</td>\n",
       "      <td>https://www.uvt.ro/ro/</td>\n",
       "      <td>16000</td>\n",
       "    </tr>\n",
       "    <tr>\n",
       "      <th>2</th>\n",
       "      <td>UBI</td>\n",
       "      <td>Portugal</td>\n",
       "      <td>40.278120</td>\n",
       "      <td>-7.509017</td>\n",
       "      <td>https://www.ubi.edu/</td>\n",
       "      <td>7000</td>\n",
       "    </tr>\n",
       "    <tr>\n",
       "      <th>3</th>\n",
       "      <td>UPPA</td>\n",
       "      <td>France</td>\n",
       "      <td>43.314338</td>\n",
       "      <td>-0.366594</td>\n",
       "      <td>https://www.univ-pau.fr/fr/index.html</td>\n",
       "      <td>13500</td>\n",
       "    </tr>\n",
       "    <tr>\n",
       "      <th>4</th>\n",
       "      <td>UNIZAR</td>\n",
       "      <td>Spain</td>\n",
       "      <td>41.642495</td>\n",
       "      <td>-0.901449</td>\n",
       "      <td>https://www.unizar.es/</td>\n",
       "      <td>39664</td>\n",
       "    </tr>\n",
       "    <tr>\n",
       "      <th>5</th>\n",
       "      <td>UNITO</td>\n",
       "      <td>Italy</td>\n",
       "      <td>45.069458</td>\n",
       "      <td>7.689126</td>\n",
       "      <td>https://en.unito.it/</td>\n",
       "      <td>81700</td>\n",
       "    </tr>\n",
       "  </tbody>\n",
       "</table>\n",
       "</div>"
      ],
      "text/plain": [
       "  university   country        lat       long  \\\n",
       "0       USMB    France  45.567611   5.917262   \n",
       "1        UVT   Romania  45.748094  21.231491   \n",
       "2        UBI  Portugal  40.278120  -7.509017   \n",
       "3       UPPA    France  43.314338  -0.366594   \n",
       "4     UNIZAR     Spain  41.642495  -0.901449   \n",
       "5      UNITO     Italy  45.069458   7.689126   \n",
       "\n",
       "                                    site students  \n",
       "0               https://www.univ-smb.fr/    15399  \n",
       "1                 https://www.uvt.ro/ro/    16000  \n",
       "2                   https://www.ubi.edu/     7000  \n",
       "3  https://www.univ-pau.fr/fr/index.html    13500  \n",
       "4                 https://www.unizar.es/    39664  \n",
       "5                   https://en.unito.it/    81700  "
      ]
     },
     "execution_count": 5,
     "metadata": {},
     "output_type": "execute_result"
    }
   ],
   "source": [
    "df"
   ]
  },
  {
   "cell_type": "code",
   "execution_count": 6,
   "metadata": {},
   "outputs": [],
   "source": [
    "df = df.sort_values(by = 'university')"
   ]
  },
  {
   "cell_type": "code",
   "execution_count": 7,
   "metadata": {},
   "outputs": [
    {
     "data": {
      "text/html": [
       "<div>\n",
       "<style scoped>\n",
       "    .dataframe tbody tr th:only-of-type {\n",
       "        vertical-align: middle;\n",
       "    }\n",
       "\n",
       "    .dataframe tbody tr th {\n",
       "        vertical-align: top;\n",
       "    }\n",
       "\n",
       "    .dataframe thead th {\n",
       "        text-align: right;\n",
       "    }\n",
       "</style>\n",
       "<table border=\"1\" class=\"dataframe\">\n",
       "  <thead>\n",
       "    <tr style=\"text-align: right;\">\n",
       "      <th></th>\n",
       "      <th>university</th>\n",
       "      <th>country</th>\n",
       "      <th>lat</th>\n",
       "      <th>long</th>\n",
       "      <th>site</th>\n",
       "      <th>students</th>\n",
       "    </tr>\n",
       "  </thead>\n",
       "  <tbody>\n",
       "    <tr>\n",
       "      <th>2</th>\n",
       "      <td>UBI</td>\n",
       "      <td>Portugal</td>\n",
       "      <td>40.278120</td>\n",
       "      <td>-7.509017</td>\n",
       "      <td>https://www.ubi.edu/</td>\n",
       "      <td>7000</td>\n",
       "    </tr>\n",
       "    <tr>\n",
       "      <th>5</th>\n",
       "      <td>UNITO</td>\n",
       "      <td>Italy</td>\n",
       "      <td>45.069458</td>\n",
       "      <td>7.689126</td>\n",
       "      <td>https://en.unito.it/</td>\n",
       "      <td>81700</td>\n",
       "    </tr>\n",
       "    <tr>\n",
       "      <th>4</th>\n",
       "      <td>UNIZAR</td>\n",
       "      <td>Spain</td>\n",
       "      <td>41.642495</td>\n",
       "      <td>-0.901449</td>\n",
       "      <td>https://www.unizar.es/</td>\n",
       "      <td>39664</td>\n",
       "    </tr>\n",
       "    <tr>\n",
       "      <th>3</th>\n",
       "      <td>UPPA</td>\n",
       "      <td>France</td>\n",
       "      <td>43.314338</td>\n",
       "      <td>-0.366594</td>\n",
       "      <td>https://www.univ-pau.fr/fr/index.html</td>\n",
       "      <td>13500</td>\n",
       "    </tr>\n",
       "    <tr>\n",
       "      <th>0</th>\n",
       "      <td>USMB</td>\n",
       "      <td>France</td>\n",
       "      <td>45.567611</td>\n",
       "      <td>5.917262</td>\n",
       "      <td>https://www.univ-smb.fr/</td>\n",
       "      <td>15399</td>\n",
       "    </tr>\n",
       "    <tr>\n",
       "      <th>1</th>\n",
       "      <td>UVT</td>\n",
       "      <td>Romania</td>\n",
       "      <td>45.748094</td>\n",
       "      <td>21.231491</td>\n",
       "      <td>https://www.uvt.ro/ro/</td>\n",
       "      <td>16000</td>\n",
       "    </tr>\n",
       "  </tbody>\n",
       "</table>\n",
       "</div>"
      ],
      "text/plain": [
       "  university   country        lat       long  \\\n",
       "2        UBI  Portugal  40.278120  -7.509017   \n",
       "5      UNITO     Italy  45.069458   7.689126   \n",
       "4     UNIZAR     Spain  41.642495  -0.901449   \n",
       "3       UPPA    France  43.314338  -0.366594   \n",
       "0       USMB    France  45.567611   5.917262   \n",
       "1        UVT   Romania  45.748094  21.231491   \n",
       "\n",
       "                                    site students  \n",
       "2                   https://www.ubi.edu/     7000  \n",
       "5                   https://en.unito.it/    81700  \n",
       "4                 https://www.unizar.es/    39664  \n",
       "3  https://www.univ-pau.fr/fr/index.html    13500  \n",
       "0               https://www.univ-smb.fr/    15399  \n",
       "1                 https://www.uvt.ro/ro/    16000  "
      ]
     },
     "execution_count": 7,
     "metadata": {},
     "output_type": "execute_result"
    }
   ],
   "source": [
    "df"
   ]
  },
  {
   "cell_type": "markdown",
   "metadata": {},
   "source": [
    "### We add universities' images in the df"
   ]
  },
  {
   "cell_type": "markdown",
   "metadata": {},
   "source": [
    "We convert images to base64 format to store them in the MongoDB database. It generates 6 files, one file for each university."
   ]
  },
  {
   "cell_type": "code",
   "execution_count": 8,
   "metadata": {},
   "outputs": [],
   "source": [
    "img_list = Path(\"C:\\\\Users\\\\camil\\\\Desktop\\\\Unita\\\\clean_data\").glob('**/*.jpg')\n",
    "\n",
    "for path in img_list:\n",
    "    \n",
    "    name_img_list = os.path.splitext(basename(path))[0]\n",
    "    \n",
    "    with open(basename(path), \"rb\") as image_file:\n",
    "        b64_string  = base64.b64encode(image_file.read())\n",
    "        f = open(\"C:\\\\Users\\\\camil\\\\Desktop\\\\Unita\\\\clean_data\\\\{}.txt\".format(name_img_list), \"wb\")\n",
    "        f.write(b64_string)\n",
    "        f.close()"
   ]
  },
  {
   "cell_type": "markdown",
   "metadata": {},
   "source": [
    "We get images in base64 format and we store them in variables to add them to the df."
   ]
  },
  {
   "cell_type": "code",
   "execution_count": 9,
   "metadata": {},
   "outputs": [],
   "source": [
    "img_list_txt = Path(\"C:\\\\Users\\\\camil\\\\Desktop\\\\Unita\\\\clean_data\").glob('**/*.txt')\n",
    "img_base64_list = []\n",
    "for path in img_list_txt:\n",
    "    \n",
    "    f = open(path, 'r')\n",
    "    data = f.read()\n",
    "    f.closed\n",
    "    \n",
    "    img_base64_list.append(data)\n",
    "    \n",
    "#To test the decoding of images in base64 format\n",
    "#im = Image.open(BytesIO(base64.b64decode(data)))\n",
    "#im.save('image.png', 'PNG')"
   ]
  },
  {
   "cell_type": "code",
   "execution_count": 10,
   "metadata": {},
   "outputs": [],
   "source": [
    "df['img'] = img_base64_list"
   ]
  },
  {
   "cell_type": "code",
   "execution_count": 11,
   "metadata": {
    "scrolled": true
   },
   "outputs": [
    {
     "data": {
      "text/html": [
       "<div>\n",
       "<style scoped>\n",
       "    .dataframe tbody tr th:only-of-type {\n",
       "        vertical-align: middle;\n",
       "    }\n",
       "\n",
       "    .dataframe tbody tr th {\n",
       "        vertical-align: top;\n",
       "    }\n",
       "\n",
       "    .dataframe thead th {\n",
       "        text-align: right;\n",
       "    }\n",
       "</style>\n",
       "<table border=\"1\" class=\"dataframe\">\n",
       "  <thead>\n",
       "    <tr style=\"text-align: right;\">\n",
       "      <th></th>\n",
       "      <th>university</th>\n",
       "      <th>country</th>\n",
       "      <th>lat</th>\n",
       "      <th>long</th>\n",
       "      <th>site</th>\n",
       "      <th>students</th>\n",
       "      <th>img</th>\n",
       "    </tr>\n",
       "  </thead>\n",
       "  <tbody>\n",
       "    <tr>\n",
       "      <th>2</th>\n",
       "      <td>UBI</td>\n",
       "      <td>Portugal</td>\n",
       "      <td>40.278120</td>\n",
       "      <td>-7.509017</td>\n",
       "      <td>https://www.ubi.edu/</td>\n",
       "      <td>7000</td>\n",
       "      <td>/9j/4AAQSkZJRgABAQEAYABgAAD/4RD0RXhpZgAATU0AKg...</td>\n",
       "    </tr>\n",
       "    <tr>\n",
       "      <th>5</th>\n",
       "      <td>UNITO</td>\n",
       "      <td>Italy</td>\n",
       "      <td>45.069458</td>\n",
       "      <td>7.689126</td>\n",
       "      <td>https://en.unito.it/</td>\n",
       "      <td>81700</td>\n",
       "      <td>/9j/4AAQSkZJRgABAQAAAQABAAD//gA7Q1JFQVRPUjogZ2...</td>\n",
       "    </tr>\n",
       "    <tr>\n",
       "      <th>4</th>\n",
       "      <td>UNIZAR</td>\n",
       "      <td>Spain</td>\n",
       "      <td>41.642495</td>\n",
       "      <td>-0.901449</td>\n",
       "      <td>https://www.unizar.es/</td>\n",
       "      <td>39664</td>\n",
       "      <td>/9j/4AAQSkZJRgABAQAAAQABAAD//gA8Q1JFQVRPUjogZ2...</td>\n",
       "    </tr>\n",
       "    <tr>\n",
       "      <th>3</th>\n",
       "      <td>UPPA</td>\n",
       "      <td>France</td>\n",
       "      <td>43.314338</td>\n",
       "      <td>-0.366594</td>\n",
       "      <td>https://www.univ-pau.fr/fr/index.html</td>\n",
       "      <td>13500</td>\n",
       "      <td>/9j/4AAQSkZJRgABAQEAYABgAAD/4RCcRXhpZgAATU0AKg...</td>\n",
       "    </tr>\n",
       "    <tr>\n",
       "      <th>0</th>\n",
       "      <td>USMB</td>\n",
       "      <td>France</td>\n",
       "      <td>45.567611</td>\n",
       "      <td>5.917262</td>\n",
       "      <td>https://www.univ-smb.fr/</td>\n",
       "      <td>15399</td>\n",
       "      <td>/9j/4AAQSkZJRgABAQEASABIAAD/2wBDAAYEBQYFBAYGBQ...</td>\n",
       "    </tr>\n",
       "    <tr>\n",
       "      <th>1</th>\n",
       "      <td>UVT</td>\n",
       "      <td>Romania</td>\n",
       "      <td>45.748094</td>\n",
       "      <td>21.231491</td>\n",
       "      <td>https://www.uvt.ro/ro/</td>\n",
       "      <td>16000</td>\n",
       "      <td>/9j/4UYURXhpZgAASUkqAAgAAAAFABoBBQABAAAASgAAAB...</td>\n",
       "    </tr>\n",
       "  </tbody>\n",
       "</table>\n",
       "</div>"
      ],
      "text/plain": [
       "  university   country        lat       long  \\\n",
       "2        UBI  Portugal  40.278120  -7.509017   \n",
       "5      UNITO     Italy  45.069458   7.689126   \n",
       "4     UNIZAR     Spain  41.642495  -0.901449   \n",
       "3       UPPA    France  43.314338  -0.366594   \n",
       "0       USMB    France  45.567611   5.917262   \n",
       "1        UVT   Romania  45.748094  21.231491   \n",
       "\n",
       "                                    site students  \\\n",
       "2                   https://www.ubi.edu/     7000   \n",
       "5                   https://en.unito.it/    81700   \n",
       "4                 https://www.unizar.es/    39664   \n",
       "3  https://www.univ-pau.fr/fr/index.html    13500   \n",
       "0               https://www.univ-smb.fr/    15399   \n",
       "1                 https://www.uvt.ro/ro/    16000   \n",
       "\n",
       "                                                 img  \n",
       "2  /9j/4AAQSkZJRgABAQEAYABgAAD/4RD0RXhpZgAATU0AKg...  \n",
       "5  /9j/4AAQSkZJRgABAQAAAQABAAD//gA7Q1JFQVRPUjogZ2...  \n",
       "4  /9j/4AAQSkZJRgABAQAAAQABAAD//gA8Q1JFQVRPUjogZ2...  \n",
       "3  /9j/4AAQSkZJRgABAQEAYABgAAD/4RCcRXhpZgAATU0AKg...  \n",
       "0  /9j/4AAQSkZJRgABAQEASABIAAD/2wBDAAYEBQYFBAYGBQ...  \n",
       "1  /9j/4UYURXhpZgAASUkqAAgAAAAFABoBBQABAAAASgAAAB...  "
      ]
     },
     "execution_count": 11,
     "metadata": {},
     "output_type": "execute_result"
    }
   ],
   "source": [
    "df"
   ]
  },
  {
   "cell_type": "code",
   "execution_count": 12,
   "metadata": {},
   "outputs": [],
   "source": [
    "df.to_json(\"coord.json\", orient = 'records')"
   ]
  }
 ],
 "metadata": {
  "kernelspec": {
   "display_name": "Python 3",
   "language": "python",
   "name": "python3"
  },
  "language_info": {
   "codemirror_mode": {
    "name": "ipython",
    "version": 3
   },
   "file_extension": ".py",
   "mimetype": "text/x-python",
   "name": "python",
   "nbconvert_exporter": "python",
   "pygments_lexer": "ipython3",
   "version": "3.7.4"
  }
 },
 "nbformat": 4,
 "nbformat_minor": 4
}
